{
  "nbformat": 4,
  "nbformat_minor": 0,
  "metadata": {
    "colab": {
      "provenance": []
    },
    "kernelspec": {
      "name": "python3",
      "display_name": "Python 3"
    },
    "language_info": {
      "name": "python"
    }
  },
  "cells": [
    {
      "cell_type": "code",
      "execution_count": null,
      "metadata": {
        "colab": {
          "base_uri": "https://localhost:8080/"
        },
        "id": "ANWdhF0Iev0x",
        "outputId": "a62c8df0-fd47-4715-8fb0-93c22aa92ecd"
      },
      "outputs": [
        {
          "output_type": "execute_result",
          "data": {
            "text/plain": [
              "45.5"
            ]
          },
          "metadata": {},
          "execution_count": 1
        }
      ],
      "source": [
        "import numpy as np\n",
        "\n",
        "a = np.array([1,2,3,2,4])\n",
        "b = np.array([0.5,2,2.5,2,4])\n",
        "c = np.array([5,2,2,3,4])\n",
        "\n",
        "d = a + b - c\n",
        "d @ d"
      ]
    },
    {
      "cell_type": "code",
      "source": [
        "(0.06 * 0.35) / (0.4 * 0.04 + 0.35 * 0.06 + 0.25 * 0.03)"
      ],
      "metadata": {
        "colab": {
          "base_uri": "https://localhost:8080/"
        },
        "id": "OaY6pFYogEHz",
        "outputId": "cf98cd18-1f82-4b4b-dee7-ab4a4a1c325e"
      },
      "execution_count": null,
      "outputs": [
        {
          "output_type": "execute_result",
          "data": {
            "text/plain": [
              "0.47191011235955055"
            ]
          },
          "metadata": {},
          "execution_count": 2
        }
      ]
    },
    {
      "cell_type": "code",
      "source": [
        "import pandas as pd\n",
        "\n",
        "train = pd.read_csv('train.csv')\n",
        "test = pd.read_csv('test.csv')\n",
        "\n",
        "train.head()"
      ],
      "metadata": {
        "colab": {
          "base_uri": "https://localhost:8080/",
          "height": 255
        },
        "id": "obvFRg0lgr-D",
        "outputId": "a675a6b7-f975-4555-fd29-0a970aaa57fc"
      },
      "execution_count": null,
      "outputs": [
        {
          "output_type": "execute_result",
          "data": {
            "text/plain": [
              "   battery_power  blue  clock_speed  dual_sim  fc  four_g  int_memory  m_dep  \\\n",
              "0           1057     1          2.7         0   3       1          41    0.1   \n",
              "1           1619     1          1.9         0   2       1          21    0.4   \n",
              "2           1028     1          2.8         0   1       1          30    0.1   \n",
              "3           1994     1          0.8         1   2       1           7    0.6   \n",
              "4           1603     1          0.5         1   1       1          17    0.5   \n",
              "\n",
              "   mobile_wt  n_cores  ...  px_height  px_width   ram  sc_h  sc_w  talk_time  \\\n",
              "0         97        4  ...        397       891  2033    16     9          2   \n",
              "1        138        1  ...         46       562  1641     7     2         13   \n",
              "2        193        1  ...       1801      1923  1424    18     4         13   \n",
              "3         88        8  ...        667       711   454    11     8          6   \n",
              "4        114        2  ...        430      1207  1637    17     3         11   \n",
              "\n",
              "   three_g  touch_screen wifi  price_range  \n",
              "0        1           Yes    0            1  \n",
              "1        1            No    0            1  \n",
              "2        1            No    1            1  \n",
              "3        1           Yes    0            0  \n",
              "4        1            No    1            1  \n",
              "\n",
              "[5 rows x 21 columns]"
            ],
            "text/html": [
              "\n",
              "  <div id=\"df-d056514c-855e-44f6-b03f-c00eadba902e\" class=\"colab-df-container\">\n",
              "    <div>\n",
              "<style scoped>\n",
              "    .dataframe tbody tr th:only-of-type {\n",
              "        vertical-align: middle;\n",
              "    }\n",
              "\n",
              "    .dataframe tbody tr th {\n",
              "        vertical-align: top;\n",
              "    }\n",
              "\n",
              "    .dataframe thead th {\n",
              "        text-align: right;\n",
              "    }\n",
              "</style>\n",
              "<table border=\"1\" class=\"dataframe\">\n",
              "  <thead>\n",
              "    <tr style=\"text-align: right;\">\n",
              "      <th></th>\n",
              "      <th>battery_power</th>\n",
              "      <th>blue</th>\n",
              "      <th>clock_speed</th>\n",
              "      <th>dual_sim</th>\n",
              "      <th>fc</th>\n",
              "      <th>four_g</th>\n",
              "      <th>int_memory</th>\n",
              "      <th>m_dep</th>\n",
              "      <th>mobile_wt</th>\n",
              "      <th>n_cores</th>\n",
              "      <th>...</th>\n",
              "      <th>px_height</th>\n",
              "      <th>px_width</th>\n",
              "      <th>ram</th>\n",
              "      <th>sc_h</th>\n",
              "      <th>sc_w</th>\n",
              "      <th>talk_time</th>\n",
              "      <th>three_g</th>\n",
              "      <th>touch_screen</th>\n",
              "      <th>wifi</th>\n",
              "      <th>price_range</th>\n",
              "    </tr>\n",
              "  </thead>\n",
              "  <tbody>\n",
              "    <tr>\n",
              "      <th>0</th>\n",
              "      <td>1057</td>\n",
              "      <td>1</td>\n",
              "      <td>2.7</td>\n",
              "      <td>0</td>\n",
              "      <td>3</td>\n",
              "      <td>1</td>\n",
              "      <td>41</td>\n",
              "      <td>0.1</td>\n",
              "      <td>97</td>\n",
              "      <td>4</td>\n",
              "      <td>...</td>\n",
              "      <td>397</td>\n",
              "      <td>891</td>\n",
              "      <td>2033</td>\n",
              "      <td>16</td>\n",
              "      <td>9</td>\n",
              "      <td>2</td>\n",
              "      <td>1</td>\n",
              "      <td>Yes</td>\n",
              "      <td>0</td>\n",
              "      <td>1</td>\n",
              "    </tr>\n",
              "    <tr>\n",
              "      <th>1</th>\n",
              "      <td>1619</td>\n",
              "      <td>1</td>\n",
              "      <td>1.9</td>\n",
              "      <td>0</td>\n",
              "      <td>2</td>\n",
              "      <td>1</td>\n",
              "      <td>21</td>\n",
              "      <td>0.4</td>\n",
              "      <td>138</td>\n",
              "      <td>1</td>\n",
              "      <td>...</td>\n",
              "      <td>46</td>\n",
              "      <td>562</td>\n",
              "      <td>1641</td>\n",
              "      <td>7</td>\n",
              "      <td>2</td>\n",
              "      <td>13</td>\n",
              "      <td>1</td>\n",
              "      <td>No</td>\n",
              "      <td>0</td>\n",
              "      <td>1</td>\n",
              "    </tr>\n",
              "    <tr>\n",
              "      <th>2</th>\n",
              "      <td>1028</td>\n",
              "      <td>1</td>\n",
              "      <td>2.8</td>\n",
              "      <td>0</td>\n",
              "      <td>1</td>\n",
              "      <td>1</td>\n",
              "      <td>30</td>\n",
              "      <td>0.1</td>\n",
              "      <td>193</td>\n",
              "      <td>1</td>\n",
              "      <td>...</td>\n",
              "      <td>1801</td>\n",
              "      <td>1923</td>\n",
              "      <td>1424</td>\n",
              "      <td>18</td>\n",
              "      <td>4</td>\n",
              "      <td>13</td>\n",
              "      <td>1</td>\n",
              "      <td>No</td>\n",
              "      <td>1</td>\n",
              "      <td>1</td>\n",
              "    </tr>\n",
              "    <tr>\n",
              "      <th>3</th>\n",
              "      <td>1994</td>\n",
              "      <td>1</td>\n",
              "      <td>0.8</td>\n",
              "      <td>1</td>\n",
              "      <td>2</td>\n",
              "      <td>1</td>\n",
              "      <td>7</td>\n",
              "      <td>0.6</td>\n",
              "      <td>88</td>\n",
              "      <td>8</td>\n",
              "      <td>...</td>\n",
              "      <td>667</td>\n",
              "      <td>711</td>\n",
              "      <td>454</td>\n",
              "      <td>11</td>\n",
              "      <td>8</td>\n",
              "      <td>6</td>\n",
              "      <td>1</td>\n",
              "      <td>Yes</td>\n",
              "      <td>0</td>\n",
              "      <td>0</td>\n",
              "    </tr>\n",
              "    <tr>\n",
              "      <th>4</th>\n",
              "      <td>1603</td>\n",
              "      <td>1</td>\n",
              "      <td>0.5</td>\n",
              "      <td>1</td>\n",
              "      <td>1</td>\n",
              "      <td>1</td>\n",
              "      <td>17</td>\n",
              "      <td>0.5</td>\n",
              "      <td>114</td>\n",
              "      <td>2</td>\n",
              "      <td>...</td>\n",
              "      <td>430</td>\n",
              "      <td>1207</td>\n",
              "      <td>1637</td>\n",
              "      <td>17</td>\n",
              "      <td>3</td>\n",
              "      <td>11</td>\n",
              "      <td>1</td>\n",
              "      <td>No</td>\n",
              "      <td>1</td>\n",
              "      <td>1</td>\n",
              "    </tr>\n",
              "  </tbody>\n",
              "</table>\n",
              "<p>5 rows × 21 columns</p>\n",
              "</div>\n",
              "    <div class=\"colab-df-buttons\">\n",
              "\n",
              "  <div class=\"colab-df-container\">\n",
              "    <button class=\"colab-df-convert\" onclick=\"convertToInteractive('df-d056514c-855e-44f6-b03f-c00eadba902e')\"\n",
              "            title=\"Convert this dataframe to an interactive table.\"\n",
              "            style=\"display:none;\">\n",
              "\n",
              "  <svg xmlns=\"http://www.w3.org/2000/svg\" height=\"24px\" viewBox=\"0 -960 960 960\">\n",
              "    <path d=\"M120-120v-720h720v720H120Zm60-500h600v-160H180v160Zm220 220h160v-160H400v160Zm0 220h160v-160H400v160ZM180-400h160v-160H180v160Zm440 0h160v-160H620v160ZM180-180h160v-160H180v160Zm440 0h160v-160H620v160Z\"/>\n",
              "  </svg>\n",
              "    </button>\n",
              "\n",
              "  <style>\n",
              "    .colab-df-container {\n",
              "      display:flex;\n",
              "      gap: 12px;\n",
              "    }\n",
              "\n",
              "    .colab-df-convert {\n",
              "      background-color: #E8F0FE;\n",
              "      border: none;\n",
              "      border-radius: 50%;\n",
              "      cursor: pointer;\n",
              "      display: none;\n",
              "      fill: #1967D2;\n",
              "      height: 32px;\n",
              "      padding: 0 0 0 0;\n",
              "      width: 32px;\n",
              "    }\n",
              "\n",
              "    .colab-df-convert:hover {\n",
              "      background-color: #E2EBFA;\n",
              "      box-shadow: 0px 1px 2px rgba(60, 64, 67, 0.3), 0px 1px 3px 1px rgba(60, 64, 67, 0.15);\n",
              "      fill: #174EA6;\n",
              "    }\n",
              "\n",
              "    .colab-df-buttons div {\n",
              "      margin-bottom: 4px;\n",
              "    }\n",
              "\n",
              "    [theme=dark] .colab-df-convert {\n",
              "      background-color: #3B4455;\n",
              "      fill: #D2E3FC;\n",
              "    }\n",
              "\n",
              "    [theme=dark] .colab-df-convert:hover {\n",
              "      background-color: #434B5C;\n",
              "      box-shadow: 0px 1px 3px 1px rgba(0, 0, 0, 0.15);\n",
              "      filter: drop-shadow(0px 1px 2px rgba(0, 0, 0, 0.3));\n",
              "      fill: #FFFFFF;\n",
              "    }\n",
              "  </style>\n",
              "\n",
              "    <script>\n",
              "      const buttonEl =\n",
              "        document.querySelector('#df-d056514c-855e-44f6-b03f-c00eadba902e button.colab-df-convert');\n",
              "      buttonEl.style.display =\n",
              "        google.colab.kernel.accessAllowed ? 'block' : 'none';\n",
              "\n",
              "      async function convertToInteractive(key) {\n",
              "        const element = document.querySelector('#df-d056514c-855e-44f6-b03f-c00eadba902e');\n",
              "        const dataTable =\n",
              "          await google.colab.kernel.invokeFunction('convertToInteractive',\n",
              "                                                    [key], {});\n",
              "        if (!dataTable) return;\n",
              "\n",
              "        const docLinkHtml = 'Like what you see? Visit the ' +\n",
              "          '<a target=\"_blank\" href=https://colab.research.google.com/notebooks/data_table.ipynb>data table notebook</a>'\n",
              "          + ' to learn more about interactive tables.';\n",
              "        element.innerHTML = '';\n",
              "        dataTable['output_type'] = 'display_data';\n",
              "        await google.colab.output.renderOutput(dataTable, element);\n",
              "        const docLink = document.createElement('div');\n",
              "        docLink.innerHTML = docLinkHtml;\n",
              "        element.appendChild(docLink);\n",
              "      }\n",
              "    </script>\n",
              "  </div>\n",
              "\n",
              "\n",
              "<div id=\"df-6cab1ace-d6e1-44ed-8d67-8152e75bb45e\">\n",
              "  <button class=\"colab-df-quickchart\" onclick=\"quickchart('df-6cab1ace-d6e1-44ed-8d67-8152e75bb45e')\"\n",
              "            title=\"Suggest charts\"\n",
              "            style=\"display:none;\">\n",
              "\n",
              "<svg xmlns=\"http://www.w3.org/2000/svg\" height=\"24px\"viewBox=\"0 0 24 24\"\n",
              "     width=\"24px\">\n",
              "    <g>\n",
              "        <path d=\"M19 3H5c-1.1 0-2 .9-2 2v14c0 1.1.9 2 2 2h14c1.1 0 2-.9 2-2V5c0-1.1-.9-2-2-2zM9 17H7v-7h2v7zm4 0h-2V7h2v10zm4 0h-2v-4h2v4z\"/>\n",
              "    </g>\n",
              "</svg>\n",
              "  </button>\n",
              "\n",
              "<style>\n",
              "  .colab-df-quickchart {\n",
              "      --bg-color: #E8F0FE;\n",
              "      --fill-color: #1967D2;\n",
              "      --hover-bg-color: #E2EBFA;\n",
              "      --hover-fill-color: #174EA6;\n",
              "      --disabled-fill-color: #AAA;\n",
              "      --disabled-bg-color: #DDD;\n",
              "  }\n",
              "\n",
              "  [theme=dark] .colab-df-quickchart {\n",
              "      --bg-color: #3B4455;\n",
              "      --fill-color: #D2E3FC;\n",
              "      --hover-bg-color: #434B5C;\n",
              "      --hover-fill-color: #FFFFFF;\n",
              "      --disabled-bg-color: #3B4455;\n",
              "      --disabled-fill-color: #666;\n",
              "  }\n",
              "\n",
              "  .colab-df-quickchart {\n",
              "    background-color: var(--bg-color);\n",
              "    border: none;\n",
              "    border-radius: 50%;\n",
              "    cursor: pointer;\n",
              "    display: none;\n",
              "    fill: var(--fill-color);\n",
              "    height: 32px;\n",
              "    padding: 0;\n",
              "    width: 32px;\n",
              "  }\n",
              "\n",
              "  .colab-df-quickchart:hover {\n",
              "    background-color: var(--hover-bg-color);\n",
              "    box-shadow: 0 1px 2px rgba(60, 64, 67, 0.3), 0 1px 3px 1px rgba(60, 64, 67, 0.15);\n",
              "    fill: var(--button-hover-fill-color);\n",
              "  }\n",
              "\n",
              "  .colab-df-quickchart-complete:disabled,\n",
              "  .colab-df-quickchart-complete:disabled:hover {\n",
              "    background-color: var(--disabled-bg-color);\n",
              "    fill: var(--disabled-fill-color);\n",
              "    box-shadow: none;\n",
              "  }\n",
              "\n",
              "  .colab-df-spinner {\n",
              "    border: 2px solid var(--fill-color);\n",
              "    border-color: transparent;\n",
              "    border-bottom-color: var(--fill-color);\n",
              "    animation:\n",
              "      spin 1s steps(1) infinite;\n",
              "  }\n",
              "\n",
              "  @keyframes spin {\n",
              "    0% {\n",
              "      border-color: transparent;\n",
              "      border-bottom-color: var(--fill-color);\n",
              "      border-left-color: var(--fill-color);\n",
              "    }\n",
              "    20% {\n",
              "      border-color: transparent;\n",
              "      border-left-color: var(--fill-color);\n",
              "      border-top-color: var(--fill-color);\n",
              "    }\n",
              "    30% {\n",
              "      border-color: transparent;\n",
              "      border-left-color: var(--fill-color);\n",
              "      border-top-color: var(--fill-color);\n",
              "      border-right-color: var(--fill-color);\n",
              "    }\n",
              "    40% {\n",
              "      border-color: transparent;\n",
              "      border-right-color: var(--fill-color);\n",
              "      border-top-color: var(--fill-color);\n",
              "    }\n",
              "    60% {\n",
              "      border-color: transparent;\n",
              "      border-right-color: var(--fill-color);\n",
              "    }\n",
              "    80% {\n",
              "      border-color: transparent;\n",
              "      border-right-color: var(--fill-color);\n",
              "      border-bottom-color: var(--fill-color);\n",
              "    }\n",
              "    90% {\n",
              "      border-color: transparent;\n",
              "      border-bottom-color: var(--fill-color);\n",
              "    }\n",
              "  }\n",
              "</style>\n",
              "\n",
              "  <script>\n",
              "    async function quickchart(key) {\n",
              "      const quickchartButtonEl =\n",
              "        document.querySelector('#' + key + ' button');\n",
              "      quickchartButtonEl.disabled = true;  // To prevent multiple clicks.\n",
              "      quickchartButtonEl.classList.add('colab-df-spinner');\n",
              "      try {\n",
              "        const charts = await google.colab.kernel.invokeFunction(\n",
              "            'suggestCharts', [key], {});\n",
              "      } catch (error) {\n",
              "        console.error('Error during call to suggestCharts:', error);\n",
              "      }\n",
              "      quickchartButtonEl.classList.remove('colab-df-spinner');\n",
              "      quickchartButtonEl.classList.add('colab-df-quickchart-complete');\n",
              "    }\n",
              "    (() => {\n",
              "      let quickchartButtonEl =\n",
              "        document.querySelector('#df-6cab1ace-d6e1-44ed-8d67-8152e75bb45e button');\n",
              "      quickchartButtonEl.style.display =\n",
              "        google.colab.kernel.accessAllowed ? 'block' : 'none';\n",
              "    })();\n",
              "  </script>\n",
              "</div>\n",
              "    </div>\n",
              "  </div>\n"
            ],
            "application/vnd.google.colaboratory.intrinsic+json": {
              "type": "dataframe",
              "variable_name": "train"
            }
          },
          "metadata": {},
          "execution_count": 3
        }
      ]
    },
    {
      "cell_type": "code",
      "source": [
        "train.describe()"
      ],
      "metadata": {
        "colab": {
          "base_uri": "https://localhost:8080/",
          "height": 320
        },
        "id": "unfuIicMhYNl",
        "outputId": "b079e9ed-997e-4c81-dc10-be75bafeb710"
      },
      "execution_count": null,
      "outputs": [
        {
          "output_type": "execute_result",
          "data": {
            "text/plain": [
              "       battery_power         blue  clock_speed     dual_sim           fc  \\\n",
              "count    1500.000000  1500.000000  1500.000000  1500.000000  1500.000000   \n",
              "mean     1228.148000     0.496000     1.529467     0.512000     4.164000   \n",
              "std       439.785748     0.500151     0.811400     0.500023     4.291237   \n",
              "min       501.000000     0.000000     0.500000     0.000000     0.000000   \n",
              "25%       840.000000     0.000000     0.700000     0.000000     0.750000   \n",
              "50%      1204.000000     0.000000     1.500000     1.000000     3.000000   \n",
              "75%      1606.250000     1.000000     2.200000     1.000000     7.000000   \n",
              "max      1998.000000     1.000000     3.000000     1.000000    19.000000   \n",
              "\n",
              "            four_g   int_memory       m_dep    mobile_wt      n_cores  \\\n",
              "count  1500.000000  1500.000000  1500.00000  1500.000000  1500.000000   \n",
              "mean      0.517333    32.426667     0.49540   139.913333     4.486667   \n",
              "std       0.499866    18.145048     0.28907    35.425845     2.298117   \n",
              "min       0.000000     2.000000     0.10000    80.000000     1.000000   \n",
              "25%       0.000000    16.000000     0.20000   108.000000     2.000000   \n",
              "50%       1.000000    32.000000     0.50000   140.000000     4.000000   \n",
              "75%       1.000000    48.000000     0.70000   170.000000     7.000000   \n",
              "max       1.000000    64.000000     1.00000   200.000000     8.000000   \n",
              "\n",
              "                pc    px_height     px_width          ram         sc_h  \\\n",
              "count  1500.000000  1500.000000  1500.000000  1500.000000  1500.000000   \n",
              "mean      9.704667   642.044667  1250.533333  2130.934667    12.255333   \n",
              "std       6.059972   441.994736   432.460692  1085.674395     4.216554   \n",
              "min       0.000000     0.000000   500.000000   256.000000     5.000000   \n",
              "25%       4.000000   277.750000   874.000000  1213.750000     9.000000   \n",
              "50%      10.000000   559.000000  1239.500000  2167.500000    12.000000   \n",
              "75%      15.000000   942.750000  1626.750000  3088.750000    16.000000   \n",
              "max      20.000000  1960.000000  1998.000000  3998.000000    19.000000   \n",
              "\n",
              "              sc_w    talk_time      three_g         wifi  price_range  \n",
              "count  1500.000000  1500.000000  1500.000000  1500.000000  1500.000000  \n",
              "mean      5.788667    11.014000     0.762000     0.510667     1.500000  \n",
              "std       4.336420     5.473126     0.426001     0.500053     1.117213  \n",
              "min       0.000000     2.000000     0.000000     0.000000     0.000000  \n",
              "25%       2.000000     6.000000     1.000000     0.000000     1.000000  \n",
              "50%       5.000000    11.000000     1.000000     1.000000     1.500000  \n",
              "75%       9.000000    16.000000     1.000000     1.000000     2.000000  \n",
              "max      18.000000    20.000000     1.000000     1.000000     3.000000  "
            ],
            "text/html": [
              "\n",
              "  <div id=\"df-40736c86-04fd-40c0-8467-ef7fe43c1168\" class=\"colab-df-container\">\n",
              "    <div>\n",
              "<style scoped>\n",
              "    .dataframe tbody tr th:only-of-type {\n",
              "        vertical-align: middle;\n",
              "    }\n",
              "\n",
              "    .dataframe tbody tr th {\n",
              "        vertical-align: top;\n",
              "    }\n",
              "\n",
              "    .dataframe thead th {\n",
              "        text-align: right;\n",
              "    }\n",
              "</style>\n",
              "<table border=\"1\" class=\"dataframe\">\n",
              "  <thead>\n",
              "    <tr style=\"text-align: right;\">\n",
              "      <th></th>\n",
              "      <th>battery_power</th>\n",
              "      <th>blue</th>\n",
              "      <th>clock_speed</th>\n",
              "      <th>dual_sim</th>\n",
              "      <th>fc</th>\n",
              "      <th>four_g</th>\n",
              "      <th>int_memory</th>\n",
              "      <th>m_dep</th>\n",
              "      <th>mobile_wt</th>\n",
              "      <th>n_cores</th>\n",
              "      <th>pc</th>\n",
              "      <th>px_height</th>\n",
              "      <th>px_width</th>\n",
              "      <th>ram</th>\n",
              "      <th>sc_h</th>\n",
              "      <th>sc_w</th>\n",
              "      <th>talk_time</th>\n",
              "      <th>three_g</th>\n",
              "      <th>wifi</th>\n",
              "      <th>price_range</th>\n",
              "    </tr>\n",
              "  </thead>\n",
              "  <tbody>\n",
              "    <tr>\n",
              "      <th>count</th>\n",
              "      <td>1500.000000</td>\n",
              "      <td>1500.000000</td>\n",
              "      <td>1500.000000</td>\n",
              "      <td>1500.000000</td>\n",
              "      <td>1500.000000</td>\n",
              "      <td>1500.000000</td>\n",
              "      <td>1500.000000</td>\n",
              "      <td>1500.00000</td>\n",
              "      <td>1500.000000</td>\n",
              "      <td>1500.000000</td>\n",
              "      <td>1500.000000</td>\n",
              "      <td>1500.000000</td>\n",
              "      <td>1500.000000</td>\n",
              "      <td>1500.000000</td>\n",
              "      <td>1500.000000</td>\n",
              "      <td>1500.000000</td>\n",
              "      <td>1500.000000</td>\n",
              "      <td>1500.000000</td>\n",
              "      <td>1500.000000</td>\n",
              "      <td>1500.000000</td>\n",
              "    </tr>\n",
              "    <tr>\n",
              "      <th>mean</th>\n",
              "      <td>1228.148000</td>\n",
              "      <td>0.496000</td>\n",
              "      <td>1.529467</td>\n",
              "      <td>0.512000</td>\n",
              "      <td>4.164000</td>\n",
              "      <td>0.517333</td>\n",
              "      <td>32.426667</td>\n",
              "      <td>0.49540</td>\n",
              "      <td>139.913333</td>\n",
              "      <td>4.486667</td>\n",
              "      <td>9.704667</td>\n",
              "      <td>642.044667</td>\n",
              "      <td>1250.533333</td>\n",
              "      <td>2130.934667</td>\n",
              "      <td>12.255333</td>\n",
              "      <td>5.788667</td>\n",
              "      <td>11.014000</td>\n",
              "      <td>0.762000</td>\n",
              "      <td>0.510667</td>\n",
              "      <td>1.500000</td>\n",
              "    </tr>\n",
              "    <tr>\n",
              "      <th>std</th>\n",
              "      <td>439.785748</td>\n",
              "      <td>0.500151</td>\n",
              "      <td>0.811400</td>\n",
              "      <td>0.500023</td>\n",
              "      <td>4.291237</td>\n",
              "      <td>0.499866</td>\n",
              "      <td>18.145048</td>\n",
              "      <td>0.28907</td>\n",
              "      <td>35.425845</td>\n",
              "      <td>2.298117</td>\n",
              "      <td>6.059972</td>\n",
              "      <td>441.994736</td>\n",
              "      <td>432.460692</td>\n",
              "      <td>1085.674395</td>\n",
              "      <td>4.216554</td>\n",
              "      <td>4.336420</td>\n",
              "      <td>5.473126</td>\n",
              "      <td>0.426001</td>\n",
              "      <td>0.500053</td>\n",
              "      <td>1.117213</td>\n",
              "    </tr>\n",
              "    <tr>\n",
              "      <th>min</th>\n",
              "      <td>501.000000</td>\n",
              "      <td>0.000000</td>\n",
              "      <td>0.500000</td>\n",
              "      <td>0.000000</td>\n",
              "      <td>0.000000</td>\n",
              "      <td>0.000000</td>\n",
              "      <td>2.000000</td>\n",
              "      <td>0.10000</td>\n",
              "      <td>80.000000</td>\n",
              "      <td>1.000000</td>\n",
              "      <td>0.000000</td>\n",
              "      <td>0.000000</td>\n",
              "      <td>500.000000</td>\n",
              "      <td>256.000000</td>\n",
              "      <td>5.000000</td>\n",
              "      <td>0.000000</td>\n",
              "      <td>2.000000</td>\n",
              "      <td>0.000000</td>\n",
              "      <td>0.000000</td>\n",
              "      <td>0.000000</td>\n",
              "    </tr>\n",
              "    <tr>\n",
              "      <th>25%</th>\n",
              "      <td>840.000000</td>\n",
              "      <td>0.000000</td>\n",
              "      <td>0.700000</td>\n",
              "      <td>0.000000</td>\n",
              "      <td>0.750000</td>\n",
              "      <td>0.000000</td>\n",
              "      <td>16.000000</td>\n",
              "      <td>0.20000</td>\n",
              "      <td>108.000000</td>\n",
              "      <td>2.000000</td>\n",
              "      <td>4.000000</td>\n",
              "      <td>277.750000</td>\n",
              "      <td>874.000000</td>\n",
              "      <td>1213.750000</td>\n",
              "      <td>9.000000</td>\n",
              "      <td>2.000000</td>\n",
              "      <td>6.000000</td>\n",
              "      <td>1.000000</td>\n",
              "      <td>0.000000</td>\n",
              "      <td>1.000000</td>\n",
              "    </tr>\n",
              "    <tr>\n",
              "      <th>50%</th>\n",
              "      <td>1204.000000</td>\n",
              "      <td>0.000000</td>\n",
              "      <td>1.500000</td>\n",
              "      <td>1.000000</td>\n",
              "      <td>3.000000</td>\n",
              "      <td>1.000000</td>\n",
              "      <td>32.000000</td>\n",
              "      <td>0.50000</td>\n",
              "      <td>140.000000</td>\n",
              "      <td>4.000000</td>\n",
              "      <td>10.000000</td>\n",
              "      <td>559.000000</td>\n",
              "      <td>1239.500000</td>\n",
              "      <td>2167.500000</td>\n",
              "      <td>12.000000</td>\n",
              "      <td>5.000000</td>\n",
              "      <td>11.000000</td>\n",
              "      <td>1.000000</td>\n",
              "      <td>1.000000</td>\n",
              "      <td>1.500000</td>\n",
              "    </tr>\n",
              "    <tr>\n",
              "      <th>75%</th>\n",
              "      <td>1606.250000</td>\n",
              "      <td>1.000000</td>\n",
              "      <td>2.200000</td>\n",
              "      <td>1.000000</td>\n",
              "      <td>7.000000</td>\n",
              "      <td>1.000000</td>\n",
              "      <td>48.000000</td>\n",
              "      <td>0.70000</td>\n",
              "      <td>170.000000</td>\n",
              "      <td>7.000000</td>\n",
              "      <td>15.000000</td>\n",
              "      <td>942.750000</td>\n",
              "      <td>1626.750000</td>\n",
              "      <td>3088.750000</td>\n",
              "      <td>16.000000</td>\n",
              "      <td>9.000000</td>\n",
              "      <td>16.000000</td>\n",
              "      <td>1.000000</td>\n",
              "      <td>1.000000</td>\n",
              "      <td>2.000000</td>\n",
              "    </tr>\n",
              "    <tr>\n",
              "      <th>max</th>\n",
              "      <td>1998.000000</td>\n",
              "      <td>1.000000</td>\n",
              "      <td>3.000000</td>\n",
              "      <td>1.000000</td>\n",
              "      <td>19.000000</td>\n",
              "      <td>1.000000</td>\n",
              "      <td>64.000000</td>\n",
              "      <td>1.00000</td>\n",
              "      <td>200.000000</td>\n",
              "      <td>8.000000</td>\n",
              "      <td>20.000000</td>\n",
              "      <td>1960.000000</td>\n",
              "      <td>1998.000000</td>\n",
              "      <td>3998.000000</td>\n",
              "      <td>19.000000</td>\n",
              "      <td>18.000000</td>\n",
              "      <td>20.000000</td>\n",
              "      <td>1.000000</td>\n",
              "      <td>1.000000</td>\n",
              "      <td>3.000000</td>\n",
              "    </tr>\n",
              "  </tbody>\n",
              "</table>\n",
              "</div>\n",
              "    <div class=\"colab-df-buttons\">\n",
              "\n",
              "  <div class=\"colab-df-container\">\n",
              "    <button class=\"colab-df-convert\" onclick=\"convertToInteractive('df-40736c86-04fd-40c0-8467-ef7fe43c1168')\"\n",
              "            title=\"Convert this dataframe to an interactive table.\"\n",
              "            style=\"display:none;\">\n",
              "\n",
              "  <svg xmlns=\"http://www.w3.org/2000/svg\" height=\"24px\" viewBox=\"0 -960 960 960\">\n",
              "    <path d=\"M120-120v-720h720v720H120Zm60-500h600v-160H180v160Zm220 220h160v-160H400v160Zm0 220h160v-160H400v160ZM180-400h160v-160H180v160Zm440 0h160v-160H620v160ZM180-180h160v-160H180v160Zm440 0h160v-160H620v160Z\"/>\n",
              "  </svg>\n",
              "    </button>\n",
              "\n",
              "  <style>\n",
              "    .colab-df-container {\n",
              "      display:flex;\n",
              "      gap: 12px;\n",
              "    }\n",
              "\n",
              "    .colab-df-convert {\n",
              "      background-color: #E8F0FE;\n",
              "      border: none;\n",
              "      border-radius: 50%;\n",
              "      cursor: pointer;\n",
              "      display: none;\n",
              "      fill: #1967D2;\n",
              "      height: 32px;\n",
              "      padding: 0 0 0 0;\n",
              "      width: 32px;\n",
              "    }\n",
              "\n",
              "    .colab-df-convert:hover {\n",
              "      background-color: #E2EBFA;\n",
              "      box-shadow: 0px 1px 2px rgba(60, 64, 67, 0.3), 0px 1px 3px 1px rgba(60, 64, 67, 0.15);\n",
              "      fill: #174EA6;\n",
              "    }\n",
              "\n",
              "    .colab-df-buttons div {\n",
              "      margin-bottom: 4px;\n",
              "    }\n",
              "\n",
              "    [theme=dark] .colab-df-convert {\n",
              "      background-color: #3B4455;\n",
              "      fill: #D2E3FC;\n",
              "    }\n",
              "\n",
              "    [theme=dark] .colab-df-convert:hover {\n",
              "      background-color: #434B5C;\n",
              "      box-shadow: 0px 1px 3px 1px rgba(0, 0, 0, 0.15);\n",
              "      filter: drop-shadow(0px 1px 2px rgba(0, 0, 0, 0.3));\n",
              "      fill: #FFFFFF;\n",
              "    }\n",
              "  </style>\n",
              "\n",
              "    <script>\n",
              "      const buttonEl =\n",
              "        document.querySelector('#df-40736c86-04fd-40c0-8467-ef7fe43c1168 button.colab-df-convert');\n",
              "      buttonEl.style.display =\n",
              "        google.colab.kernel.accessAllowed ? 'block' : 'none';\n",
              "\n",
              "      async function convertToInteractive(key) {\n",
              "        const element = document.querySelector('#df-40736c86-04fd-40c0-8467-ef7fe43c1168');\n",
              "        const dataTable =\n",
              "          await google.colab.kernel.invokeFunction('convertToInteractive',\n",
              "                                                    [key], {});\n",
              "        if (!dataTable) return;\n",
              "\n",
              "        const docLinkHtml = 'Like what you see? Visit the ' +\n",
              "          '<a target=\"_blank\" href=https://colab.research.google.com/notebooks/data_table.ipynb>data table notebook</a>'\n",
              "          + ' to learn more about interactive tables.';\n",
              "        element.innerHTML = '';\n",
              "        dataTable['output_type'] = 'display_data';\n",
              "        await google.colab.output.renderOutput(dataTable, element);\n",
              "        const docLink = document.createElement('div');\n",
              "        docLink.innerHTML = docLinkHtml;\n",
              "        element.appendChild(docLink);\n",
              "      }\n",
              "    </script>\n",
              "  </div>\n",
              "\n",
              "\n",
              "<div id=\"df-eeed344a-1fd2-41de-a215-02c4f23cda3a\">\n",
              "  <button class=\"colab-df-quickchart\" onclick=\"quickchart('df-eeed344a-1fd2-41de-a215-02c4f23cda3a')\"\n",
              "            title=\"Suggest charts\"\n",
              "            style=\"display:none;\">\n",
              "\n",
              "<svg xmlns=\"http://www.w3.org/2000/svg\" height=\"24px\"viewBox=\"0 0 24 24\"\n",
              "     width=\"24px\">\n",
              "    <g>\n",
              "        <path d=\"M19 3H5c-1.1 0-2 .9-2 2v14c0 1.1.9 2 2 2h14c1.1 0 2-.9 2-2V5c0-1.1-.9-2-2-2zM9 17H7v-7h2v7zm4 0h-2V7h2v10zm4 0h-2v-4h2v4z\"/>\n",
              "    </g>\n",
              "</svg>\n",
              "  </button>\n",
              "\n",
              "<style>\n",
              "  .colab-df-quickchart {\n",
              "      --bg-color: #E8F0FE;\n",
              "      --fill-color: #1967D2;\n",
              "      --hover-bg-color: #E2EBFA;\n",
              "      --hover-fill-color: #174EA6;\n",
              "      --disabled-fill-color: #AAA;\n",
              "      --disabled-bg-color: #DDD;\n",
              "  }\n",
              "\n",
              "  [theme=dark] .colab-df-quickchart {\n",
              "      --bg-color: #3B4455;\n",
              "      --fill-color: #D2E3FC;\n",
              "      --hover-bg-color: #434B5C;\n",
              "      --hover-fill-color: #FFFFFF;\n",
              "      --disabled-bg-color: #3B4455;\n",
              "      --disabled-fill-color: #666;\n",
              "  }\n",
              "\n",
              "  .colab-df-quickchart {\n",
              "    background-color: var(--bg-color);\n",
              "    border: none;\n",
              "    border-radius: 50%;\n",
              "    cursor: pointer;\n",
              "    display: none;\n",
              "    fill: var(--fill-color);\n",
              "    height: 32px;\n",
              "    padding: 0;\n",
              "    width: 32px;\n",
              "  }\n",
              "\n",
              "  .colab-df-quickchart:hover {\n",
              "    background-color: var(--hover-bg-color);\n",
              "    box-shadow: 0 1px 2px rgba(60, 64, 67, 0.3), 0 1px 3px 1px rgba(60, 64, 67, 0.15);\n",
              "    fill: var(--button-hover-fill-color);\n",
              "  }\n",
              "\n",
              "  .colab-df-quickchart-complete:disabled,\n",
              "  .colab-df-quickchart-complete:disabled:hover {\n",
              "    background-color: var(--disabled-bg-color);\n",
              "    fill: var(--disabled-fill-color);\n",
              "    box-shadow: none;\n",
              "  }\n",
              "\n",
              "  .colab-df-spinner {\n",
              "    border: 2px solid var(--fill-color);\n",
              "    border-color: transparent;\n",
              "    border-bottom-color: var(--fill-color);\n",
              "    animation:\n",
              "      spin 1s steps(1) infinite;\n",
              "  }\n",
              "\n",
              "  @keyframes spin {\n",
              "    0% {\n",
              "      border-color: transparent;\n",
              "      border-bottom-color: var(--fill-color);\n",
              "      border-left-color: var(--fill-color);\n",
              "    }\n",
              "    20% {\n",
              "      border-color: transparent;\n",
              "      border-left-color: var(--fill-color);\n",
              "      border-top-color: var(--fill-color);\n",
              "    }\n",
              "    30% {\n",
              "      border-color: transparent;\n",
              "      border-left-color: var(--fill-color);\n",
              "      border-top-color: var(--fill-color);\n",
              "      border-right-color: var(--fill-color);\n",
              "    }\n",
              "    40% {\n",
              "      border-color: transparent;\n",
              "      border-right-color: var(--fill-color);\n",
              "      border-top-color: var(--fill-color);\n",
              "    }\n",
              "    60% {\n",
              "      border-color: transparent;\n",
              "      border-right-color: var(--fill-color);\n",
              "    }\n",
              "    80% {\n",
              "      border-color: transparent;\n",
              "      border-right-color: var(--fill-color);\n",
              "      border-bottom-color: var(--fill-color);\n",
              "    }\n",
              "    90% {\n",
              "      border-color: transparent;\n",
              "      border-bottom-color: var(--fill-color);\n",
              "    }\n",
              "  }\n",
              "</style>\n",
              "\n",
              "  <script>\n",
              "    async function quickchart(key) {\n",
              "      const quickchartButtonEl =\n",
              "        document.querySelector('#' + key + ' button');\n",
              "      quickchartButtonEl.disabled = true;  // To prevent multiple clicks.\n",
              "      quickchartButtonEl.classList.add('colab-df-spinner');\n",
              "      try {\n",
              "        const charts = await google.colab.kernel.invokeFunction(\n",
              "            'suggestCharts', [key], {});\n",
              "      } catch (error) {\n",
              "        console.error('Error during call to suggestCharts:', error);\n",
              "      }\n",
              "      quickchartButtonEl.classList.remove('colab-df-spinner');\n",
              "      quickchartButtonEl.classList.add('colab-df-quickchart-complete');\n",
              "    }\n",
              "    (() => {\n",
              "      let quickchartButtonEl =\n",
              "        document.querySelector('#df-eeed344a-1fd2-41de-a215-02c4f23cda3a button');\n",
              "      quickchartButtonEl.style.display =\n",
              "        google.colab.kernel.accessAllowed ? 'block' : 'none';\n",
              "    })();\n",
              "  </script>\n",
              "</div>\n",
              "    </div>\n",
              "  </div>\n"
            ],
            "application/vnd.google.colaboratory.intrinsic+json": {
              "type": "dataframe",
              "summary": "{\n  \"name\": \"train\",\n  \"rows\": 8,\n  \"fields\": [\n    {\n      \"column\": \"battery_power\",\n      \"properties\": {\n        \"dtype\": \"number\",\n        \"std\": 544.9482218946795,\n        \"min\": 439.78574832785137,\n        \"max\": 1998.0,\n        \"num_unique_values\": 8,\n        \"samples\": [\n          1228.148,\n          1204.0,\n          1500.0\n        ],\n        \"semantic_type\": \"\",\n        \"description\": \"\"\n      }\n    },\n    {\n      \"column\": \"blue\",\n      \"properties\": {\n        \"dtype\": \"number\",\n        \"std\": 530.1789209479443,\n        \"min\": 0.0,\n        \"max\": 1500.0,\n        \"num_unique_values\": 5,\n        \"samples\": [\n          0.496,\n          1.0,\n          0.5001507444542282\n        ],\n        \"semantic_type\": \"\",\n        \"description\": \"\"\n      }\n    },\n    {\n      \"column\": \"clock_speed\",\n      \"properties\": {\n        \"dtype\": \"number\",\n        \"std\": 529.8134972481802,\n        \"min\": 0.5,\n        \"max\": 1500.0,\n        \"num_unique_values\": 8,\n        \"samples\": [\n          1.5294666666666665,\n          1.5,\n          1500.0\n        ],\n        \"semantic_type\": \"\",\n        \"description\": \"\"\n      }\n    },\n    {\n      \"column\": \"dual_sim\",\n      \"properties\": {\n        \"dtype\": \"number\",\n        \"std\": 530.127611540097,\n        \"min\": 0.0,\n        \"max\": 1500.0,\n        \"num_unique_values\": 5,\n        \"samples\": [\n          0.512,\n          1.0,\n          0.5000226812734184\n        ],\n        \"semantic_type\": \"\",\n        \"description\": \"\"\n      }\n    },\n    {\n      \"column\": \"fc\",\n      \"properties\": {\n        \"dtype\": \"number\",\n        \"std\": 528.4337905913156,\n        \"min\": 0.0,\n        \"max\": 1500.0,\n        \"num_unique_values\": 8,\n        \"samples\": [\n          4.164,\n          3.0,\n          1500.0\n        ],\n        \"semantic_type\": \"\",\n        \"description\": \"\"\n      }\n    },\n    {\n      \"column\": \"four_g\",\n      \"properties\": {\n        \"dtype\": \"number\",\n        \"std\": 530.1273499924793,\n        \"min\": 0.0,\n        \"max\": 1500.0,\n        \"num_unique_values\": 5,\n        \"samples\": [\n          0.5173333333333333,\n          1.0,\n          0.49986611505236134\n        ],\n        \"semantic_type\": \"\",\n        \"description\": \"\"\n      }\n    },\n    {\n      \"column\": \"int_memory\",\n      \"properties\": {\n        \"dtype\": \"number\",\n        \"std\": 519.9521951320204,\n        \"min\": 2.0,\n        \"max\": 1500.0,\n        \"num_unique_values\": 8,\n        \"samples\": [\n          32.42666666666667,\n          32.0,\n          1500.0\n        ],\n        \"semantic_type\": \"\",\n        \"description\": \"\"\n      }\n    },\n    {\n      \"column\": \"m_dep\",\n      \"properties\": {\n        \"dtype\": \"number\",\n        \"std\": 530.1642729822363,\n        \"min\": 0.1,\n        \"max\": 1500.0,\n        \"num_unique_values\": 8,\n        \"samples\": [\n          0.4954,\n          0.5,\n          1500.0\n        ],\n        \"semantic_type\": \"\",\n        \"description\": \"\"\n      }\n    },\n    {\n      \"column\": \"mobile_wt\",\n      \"properties\": {\n        \"dtype\": \"number\",\n        \"std\": 488.92043970015214,\n        \"min\": 35.42584483881674,\n        \"max\": 1500.0,\n        \"num_unique_values\": 8,\n        \"samples\": [\n          139.91333333333333,\n          140.0,\n          1500.0\n        ],\n        \"semantic_type\": \"\",\n        \"description\": \"\"\n      }\n    },\n    {\n      \"column\": \"n_cores\",\n      \"properties\": {\n        \"dtype\": \"number\",\n        \"std\": 528.8817781833222,\n        \"min\": 1.0,\n        \"max\": 1500.0,\n        \"num_unique_values\": 8,\n        \"samples\": [\n          4.486666666666666,\n          4.0,\n          1500.0\n        ],\n        \"semantic_type\": \"\",\n        \"description\": \"\"\n      }\n    },\n    {\n      \"column\": \"pc\",\n      \"properties\": {\n        \"dtype\": \"number\",\n        \"std\": 527.0959328542862,\n        \"min\": 0.0,\n        \"max\": 1500.0,\n        \"num_unique_values\": 8,\n        \"samples\": [\n          9.704666666666666,\n          10.0,\n          1500.0\n        ],\n        \"semantic_type\": \"\",\n        \"description\": \"\"\n      }\n    },\n    {\n      \"column\": \"px_height\",\n      \"properties\": {\n        \"dtype\": \"number\",\n        \"std\": 652.3792174845236,\n        \"min\": 0.0,\n        \"max\": 1960.0,\n        \"num_unique_values\": 8,\n        \"samples\": [\n          642.0446666666667,\n          559.0,\n          1500.0\n        ],\n        \"semantic_type\": \"\",\n        \"description\": \"\"\n      }\n    },\n    {\n      \"column\": \"px_width\",\n      \"properties\": {\n        \"dtype\": \"number\",\n        \"std\": 546.9959267069618,\n        \"min\": 432.4606923052641,\n        \"max\": 1998.0,\n        \"num_unique_values\": 8,\n        \"samples\": [\n          1250.5333333333333,\n          1239.5,\n          1500.0\n        ],\n        \"semantic_type\": \"\",\n        \"description\": \"\"\n      }\n    },\n    {\n      \"column\": \"ram\",\n      \"properties\": {\n        \"dtype\": \"number\",\n        \"std\": 1190.988922637053,\n        \"min\": 256.0,\n        \"max\": 3998.0,\n        \"num_unique_values\": 8,\n        \"samples\": [\n          2130.9346666666665,\n          2167.5,\n          1500.0\n        ],\n        \"semantic_type\": \"\",\n        \"description\": \"\"\n      }\n    },\n    {\n      \"column\": \"sc_h\",\n      \"properties\": {\n        \"dtype\": \"number\",\n        \"std\": 526.4412568305296,\n        \"min\": 4.216553620969923,\n        \"max\": 1500.0,\n        \"num_unique_values\": 8,\n        \"samples\": [\n          12.255333333333333,\n          12.0,\n          1500.0\n        ],\n        \"semantic_type\": \"\",\n        \"description\": \"\"\n      }\n    },\n    {\n      \"column\": \"sc_w\",\n      \"properties\": {\n        \"dtype\": \"number\",\n        \"std\": 528.129587407667,\n        \"min\": 0.0,\n        \"max\": 1500.0,\n        \"num_unique_values\": 8,\n        \"samples\": [\n          5.788666666666667,\n          5.0,\n          1500.0\n        ],\n        \"semantic_type\": \"\",\n        \"description\": \"\"\n      }\n    },\n    {\n      \"column\": \"talk_time\",\n      \"properties\": {\n        \"dtype\": \"number\",\n        \"std\": 526.7517428182437,\n        \"min\": 2.0,\n        \"max\": 1500.0,\n        \"num_unique_values\": 8,\n        \"samples\": [\n          11.014,\n          11.0,\n          1500.0\n        ],\n        \"semantic_type\": \"\",\n        \"description\": \"\"\n      }\n    },\n    {\n      \"column\": \"three_g\",\n      \"properties\": {\n        \"dtype\": \"number\",\n        \"std\": 530.0681758399572,\n        \"min\": 0.0,\n        \"max\": 1500.0,\n        \"num_unique_values\": 5,\n        \"samples\": [\n          0.762,\n          1.0,\n          0.42600115569847646\n        ],\n        \"semantic_type\": \"\",\n        \"description\": \"\"\n      }\n    },\n    {\n      \"column\": \"wifi\",\n      \"properties\": {\n        \"dtype\": \"number\",\n        \"std\": 530.127677377805,\n        \"min\": 0.0,\n        \"max\": 1500.0,\n        \"num_unique_values\": 5,\n        \"samples\": [\n          0.5106666666666667,\n          1.0,\n          0.5000529213709985\n        ],\n        \"semantic_type\": \"\",\n        \"description\": \"\"\n      }\n    },\n    {\n      \"column\": \"price_range\",\n      \"properties\": {\n        \"dtype\": \"number\",\n        \"std\": 529.8197804707609,\n        \"min\": 0.0,\n        \"max\": 1500.0,\n        \"num_unique_values\": 7,\n        \"samples\": [\n          1500.0,\n          1.5,\n          2.0\n        ],\n        \"semantic_type\": \"\",\n        \"description\": \"\"\n      }\n    }\n  ]\n}"
            }
          },
          "metadata": {},
          "execution_count": 4
        }
      ]
    },
    {
      "cell_type": "code",
      "source": [
        "train['is_internet'] = 0"
      ],
      "metadata": {
        "id": "mFK_m5VRh6w0"
      },
      "execution_count": null,
      "outputs": []
    },
    {
      "cell_type": "code",
      "source": [
        "train.loc[(train['four_g'] == 1) | (train['three_g'] == 1) | (train['wifi'] == 1), 'is_internet'] = 1"
      ],
      "metadata": {
        "id": "0vPlSMe9ir0W"
      },
      "execution_count": null,
      "outputs": []
    },
    {
      "cell_type": "code",
      "source": [
        "test['is_internet'] = 0\n",
        "test.loc[(test['four_g'] == 1) | (test['three_g'] == 1) | (test['wifi'] == 1), 'is_internet'] = 1"
      ],
      "metadata": {
        "id": "hBpRDJ6sjqrn"
      },
      "execution_count": null,
      "outputs": []
    },
    {
      "cell_type": "code",
      "source": [
        "train[train['is_internet'] == 0].shape[0] / train.shape[0]"
      ],
      "metadata": {
        "colab": {
          "base_uri": "https://localhost:8080/"
        },
        "id": "5WFRpgKpjyPn",
        "outputId": "42a97271-8c7e-4246-ecce-2158ded0a41f"
      },
      "execution_count": null,
      "outputs": [
        {
          "output_type": "execute_result",
          "data": {
            "text/plain": [
              "0.118"
            ]
          },
          "metadata": {},
          "execution_count": 8
        }
      ]
    },
    {
      "cell_type": "code",
      "source": [
        "train.corr()['price_range'].sort_values()"
      ],
      "metadata": {
        "colab": {
          "base_uri": "https://localhost:8080/"
        },
        "id": "3YpjV5bAkFhi",
        "outputId": "6e0e12e6-ca52-46d3-c245-a0b6293c7b13"
      },
      "execution_count": null,
      "outputs": [
        {
          "output_type": "stream",
          "name": "stderr",
          "text": [
            "<ipython-input-9-c761d8772db0>:1: FutureWarning: The default value of numeric_only in DataFrame.corr is deprecated. In a future version, it will default to False. Select only valid columns or specify the value of numeric_only to silence this warning.\n",
            "  train.corr()['price_range'].sort_values()\n"
          ]
        },
        {
          "output_type": "execute_result",
          "data": {
            "text/plain": [
              "mobile_wt       -0.031402\n",
              "n_cores         -0.005716\n",
              "fc              -0.000835\n",
              "m_dep           -0.000310\n",
              "pc               0.001921\n",
              "talk_time        0.002455\n",
              "clock_speed      0.012216\n",
              "four_g           0.016724\n",
              "dual_sim         0.020301\n",
              "is_internet      0.023129\n",
              "blue             0.023878\n",
              "three_g          0.024530\n",
              "wifi             0.027465\n",
              "sc_h             0.039723\n",
              "int_memory       0.050547\n",
              "sc_w             0.053221\n",
              "px_height        0.154673\n",
              "px_width         0.172939\n",
              "battery_power    0.200020\n",
              "ram              0.916218\n",
              "price_range      1.000000\n",
              "Name: price_range, dtype: float64"
            ]
          },
          "metadata": {},
          "execution_count": 9
        }
      ]
    },
    {
      "cell_type": "code",
      "source": [
        "pr2 = train[train['price_range'] == 2]\n",
        "pr2[pr2['blue'] == 0].shape[0] / pr2.shape[0]"
      ],
      "metadata": {
        "colab": {
          "base_uri": "https://localhost:8080/"
        },
        "id": "v4b8UurDkviN",
        "outputId": "8f5d6d62-7b0d-4742-9785-2c062e6ca9aa"
      },
      "execution_count": null,
      "outputs": [
        {
          "output_type": "execute_result",
          "data": {
            "text/plain": [
              "0.523936170212766"
            ]
          },
          "metadata": {},
          "execution_count": 10
        }
      ]
    },
    {
      "cell_type": "code",
      "source": [
        "tt10 = train[train['talk_time'] < 10]\n",
        "tt10[tt10['dual_sim'] == 0].shape[0]"
      ],
      "metadata": {
        "colab": {
          "base_uri": "https://localhost:8080/"
        },
        "id": "K35i5KmtliTB",
        "outputId": "4302abcb-b332-418c-d969-27d6a78f155e"
      },
      "execution_count": null,
      "outputs": [
        {
          "output_type": "execute_result",
          "data": {
            "text/plain": [
              "291"
            ]
          },
          "metadata": {},
          "execution_count": 11
        }
      ]
    },
    {
      "cell_type": "code",
      "source": [
        "X_train, y_train = train.drop('price_range', axis=1), train['price_range']"
      ],
      "metadata": {
        "id": "YHmxT-CNmAlq"
      },
      "execution_count": null,
      "outputs": []
    },
    {
      "cell_type": "code",
      "source": [
        "X_test = test"
      ],
      "metadata": {
        "id": "bKV02nWSpD8u"
      },
      "execution_count": null,
      "outputs": []
    },
    {
      "cell_type": "code",
      "source": [
        "X_train['touch_screen'].value_counts()"
      ],
      "metadata": {
        "colab": {
          "base_uri": "https://localhost:8080/"
        },
        "id": "jKJhRUQem8mF",
        "outputId": "cacaba91-2362-43b6-9823-671800a41d74"
      },
      "execution_count": null,
      "outputs": [
        {
          "output_type": "execute_result",
          "data": {
            "text/plain": [
              "Yes    759\n",
              "No     739\n",
              "-        2\n",
              "Name: touch_screen, dtype: int64"
            ]
          },
          "metadata": {},
          "execution_count": 14
        }
      ]
    },
    {
      "cell_type": "code",
      "source": [
        "X_train.loc[X_train['touch_screen'] == '-', 'touch_screen'] = 'Yes'"
      ],
      "metadata": {
        "id": "VklH2XXVmbKf"
      },
      "execution_count": null,
      "outputs": []
    },
    {
      "cell_type": "code",
      "source": [
        "X_test.loc[X_test['touch_screen'] == '-', 'touch_screen'] = 'Yes'"
      ],
      "metadata": {
        "id": "O0d7U5sLq3Ah"
      },
      "execution_count": null,
      "outputs": []
    },
    {
      "cell_type": "code",
      "source": [
        "X_train['touch_screen'].value_counts()"
      ],
      "metadata": {
        "colab": {
          "base_uri": "https://localhost:8080/"
        },
        "id": "iV6f2UIfnDaH",
        "outputId": "dda0f674-d520-4950-e299-2310b15d86e9"
      },
      "execution_count": null,
      "outputs": [
        {
          "output_type": "execute_result",
          "data": {
            "text/plain": [
              "Yes    761\n",
              "No     739\n",
              "Name: touch_screen, dtype: int64"
            ]
          },
          "metadata": {},
          "execution_count": 17
        }
      ]
    },
    {
      "cell_type": "code",
      "source": [
        "np.array(X_train['touch_screen']).reshape(1, -1)"
      ],
      "metadata": {
        "colab": {
          "base_uri": "https://localhost:8080/"
        },
        "id": "XLikTj9Gn2ur",
        "outputId": "c7284c3f-f8c8-4027-cfa0-059363a1188b"
      },
      "execution_count": null,
      "outputs": [
        {
          "output_type": "execute_result",
          "data": {
            "text/plain": [
              "array([['Yes', 'No', 'No', ..., 'No', 'Yes', 'Yes']], dtype=object)"
            ]
          },
          "metadata": {},
          "execution_count": 18
        }
      ]
    },
    {
      "cell_type": "code",
      "source": [
        "from sklearn.preprocessing import OneHotEncoder\n",
        "\n",
        "enc = OneHotEncoder(drop='first', sparse_output=False)\n",
        "enc.fit(np.array(X_train['touch_screen']).reshape(-1, 1))\n",
        "X_train['touch_screen'] = enc.transform(np.array(X_train['touch_screen']).reshape(-1, 1))"
      ],
      "metadata": {
        "id": "jNLPuOpMnJL5"
      },
      "execution_count": null,
      "outputs": []
    },
    {
      "cell_type": "code",
      "source": [
        "X_test['touch_screen'] = enc.transform(np.array(X_test['touch_screen']).reshape(-1, 1))"
      ],
      "metadata": {
        "id": "PkqfQbjCoa2a"
      },
      "execution_count": null,
      "outputs": []
    },
    {
      "cell_type": "code",
      "source": [
        "from sklearn.linear_model import LogisticRegression"
      ],
      "metadata": {
        "id": "Oi4U52ahrXth"
      },
      "execution_count": null,
      "outputs": []
    },
    {
      "cell_type": "code",
      "source": [
        "model = LogisticRegression(random_state=42)\n",
        "model.fit(X_train, y_train)\n",
        "model.predict(X_test)"
      ],
      "metadata": {
        "colab": {
          "base_uri": "https://localhost:8080/"
        },
        "id": "WvvoD4zLriBc",
        "outputId": "a1bf9a28-6344-49e1-c0ff-44bff0caaf13"
      },
      "execution_count": null,
      "outputs": [
        {
          "output_type": "stream",
          "name": "stderr",
          "text": [
            "/usr/local/lib/python3.10/dist-packages/sklearn/linear_model/_logistic.py:458: ConvergenceWarning: lbfgs failed to converge (status=1):\n",
            "STOP: TOTAL NO. of ITERATIONS REACHED LIMIT.\n",
            "\n",
            "Increase the number of iterations (max_iter) or scale the data as shown in:\n",
            "    https://scikit-learn.org/stable/modules/preprocessing.html\n",
            "Please also refer to the documentation for alternative solver options:\n",
            "    https://scikit-learn.org/stable/modules/linear_model.html#logistic-regression\n",
            "  n_iter_i = _check_optimize_result(\n"
          ]
        },
        {
          "output_type": "execute_result",
          "data": {
            "text/plain": [
              "array([3, 3, 2, 0, 2, 1, 3, 2, 3, 3, 3, 2, 2, 3, 2, 2, 0, 3, 3, 2, 0, 2,\n",
              "       1, 3, 3, 1, 1, 3, 0, 0, 3, 0, 3, 1, 2, 1, 3, 3, 2, 0, 3, 0, 0, 1,\n",
              "       1, 0, 2, 3, 1, 1, 1, 0, 2, 1, 1, 2, 2, 0, 0, 3, 3, 2, 0, 1, 2, 2,\n",
              "       1, 0, 0, 1, 3, 3, 0, 2, 0, 1, 1, 2, 3, 0, 2, 1, 3, 2, 3, 3, 1, 0,\n",
              "       2, 2, 3, 3, 0, 3, 2, 0, 2, 2, 3, 3, 2, 2, 1, 3, 2, 3, 1, 2, 3, 0,\n",
              "       1, 3, 2, 1, 1, 3, 1, 0, 2, 2, 3, 3, 0, 2, 0, 2, 0, 2, 2, 1, 1, 1,\n",
              "       3, 2, 2, 1, 3, 0, 0, 0, 2, 0, 0, 0, 1, 3, 2, 1, 3, 1, 3, 2, 1, 1,\n",
              "       3, 0, 2, 2, 2, 3, 3, 3, 2, 2, 1, 0, 1, 1, 3, 3, 1, 3, 0, 2, 3, 2,\n",
              "       0, 0, 1, 0, 3, 2, 1, 0, 3, 3, 0, 0, 0, 0, 0, 3, 2, 2, 2, 0, 3, 3,\n",
              "       1, 3, 0, 1, 0, 2, 1, 0, 2, 3, 2, 2, 2, 0, 3, 0, 1, 2, 0, 3, 3, 0,\n",
              "       2, 0, 3, 2, 1, 2, 1, 2, 1, 0, 1, 2, 1, 2, 1, 2, 1, 3, 1, 3, 0, 1,\n",
              "       3, 3, 1, 2, 2, 1, 2, 2, 3, 2, 3, 2, 2, 3, 1, 1, 0, 3, 3, 1, 1, 2,\n",
              "       1, 3, 3, 0, 0, 2, 0, 0, 3, 2, 3, 2, 1, 2, 2, 2, 2, 0, 0, 3, 1, 3,\n",
              "       3, 0, 1, 0, 0, 1, 3, 3, 0, 3, 0, 3, 3, 0, 1, 2, 3, 1, 0, 2, 3, 3,\n",
              "       3, 0, 0, 2, 3, 0, 3, 2, 2, 0, 3, 1, 3, 3, 3, 0, 1, 0, 1, 3, 0, 1,\n",
              "       1, 3, 0, 0, 2, 2, 1, 2, 1, 3, 0, 3, 2, 2, 1, 0, 2, 3, 2, 0, 1, 2,\n",
              "       0, 0, 0, 3, 3, 1, 0, 0, 0, 3, 1, 1, 3, 2, 0, 1, 2, 1, 0, 0, 3, 3,\n",
              "       1, 2, 2, 3, 1, 3, 2, 0, 3, 0, 0, 0, 3, 0, 2, 3, 2, 3, 2, 0, 0, 0,\n",
              "       1, 3, 1, 1, 0, 1, 1, 3, 3, 3, 0, 0, 1, 0, 1, 3, 3, 3, 1, 0, 1, 2,\n",
              "       1, 3, 2, 3, 3, 1, 2, 0, 3, 2, 2, 0, 0, 1, 1, 1, 3, 2, 3, 3, 3, 3,\n",
              "       1, 1, 3, 0, 0, 3, 1, 1, 2, 3, 3, 1, 3, 1, 1, 1, 0, 1, 1, 0, 1, 3,\n",
              "       0, 0, 0, 2, 1, 2, 3, 1, 0, 3, 0, 1, 0, 1, 2, 2, 1, 0, 2, 2, 0, 3,\n",
              "       0, 0, 2, 0, 2, 3, 2, 0, 0, 0, 0, 3, 1, 0, 0, 3])"
            ]
          },
          "metadata": {},
          "execution_count": 22
        }
      ]
    },
    {
      "cell_type": "code",
      "source": [
        "from sklearn.model_selection import cross_val_score\n",
        "\n",
        "cvs = cross_val_score(model, X_train, y_train, cv=3, scoring='f1_weighted')"
      ],
      "metadata": {
        "colab": {
          "base_uri": "https://localhost:8080/"
        },
        "id": "b2nT_bwwscm2",
        "outputId": "0d964eae-9348-4780-81fb-63fe611977b6"
      },
      "execution_count": null,
      "outputs": [
        {
          "output_type": "stream",
          "name": "stderr",
          "text": [
            "/usr/local/lib/python3.10/dist-packages/sklearn/linear_model/_logistic.py:458: ConvergenceWarning: lbfgs failed to converge (status=1):\n",
            "STOP: TOTAL NO. of ITERATIONS REACHED LIMIT.\n",
            "\n",
            "Increase the number of iterations (max_iter) or scale the data as shown in:\n",
            "    https://scikit-learn.org/stable/modules/preprocessing.html\n",
            "Please also refer to the documentation for alternative solver options:\n",
            "    https://scikit-learn.org/stable/modules/linear_model.html#logistic-regression\n",
            "  n_iter_i = _check_optimize_result(\n",
            "/usr/local/lib/python3.10/dist-packages/sklearn/linear_model/_logistic.py:458: ConvergenceWarning: lbfgs failed to converge (status=1):\n",
            "STOP: TOTAL NO. of ITERATIONS REACHED LIMIT.\n",
            "\n",
            "Increase the number of iterations (max_iter) or scale the data as shown in:\n",
            "    https://scikit-learn.org/stable/modules/preprocessing.html\n",
            "Please also refer to the documentation for alternative solver options:\n",
            "    https://scikit-learn.org/stable/modules/linear_model.html#logistic-regression\n",
            "  n_iter_i = _check_optimize_result(\n",
            "/usr/local/lib/python3.10/dist-packages/sklearn/linear_model/_logistic.py:458: ConvergenceWarning: lbfgs failed to converge (status=1):\n",
            "STOP: TOTAL NO. of ITERATIONS REACHED LIMIT.\n",
            "\n",
            "Increase the number of iterations (max_iter) or scale the data as shown in:\n",
            "    https://scikit-learn.org/stable/modules/preprocessing.html\n",
            "Please also refer to the documentation for alternative solver options:\n",
            "    https://scikit-learn.org/stable/modules/linear_model.html#logistic-regression\n",
            "  n_iter_i = _check_optimize_result(\n"
          ]
        }
      ]
    },
    {
      "cell_type": "code",
      "source": [
        "cvs.mean()"
      ],
      "metadata": {
        "colab": {
          "base_uri": "https://localhost:8080/"
        },
        "id": "BJCMUbOItwWa",
        "outputId": "e74b031e-7960-49bf-cd3b-8abc9b793dc7"
      },
      "execution_count": null,
      "outputs": [
        {
          "output_type": "execute_result",
          "data": {
            "text/plain": [
              "0.6341472847191132"
            ]
          },
          "metadata": {},
          "execution_count": 24
        }
      ]
    },
    {
      "cell_type": "code",
      "source": [
        "[10**i for i in range(-3, 3)]"
      ],
      "metadata": {
        "colab": {
          "base_uri": "https://localhost:8080/"
        },
        "id": "AmohFGiCwGRG",
        "outputId": "d02bbd70-efbb-4127-db4c-617947644411"
      },
      "execution_count": null,
      "outputs": [
        {
          "output_type": "execute_result",
          "data": {
            "text/plain": [
              "[0.001, 0.01, 0.1, 1, 10, 100]"
            ]
          },
          "metadata": {},
          "execution_count": 25
        }
      ]
    },
    {
      "cell_type": "code",
      "source": [
        "from sklearn.model_selection import GridSearchCV\n",
        "\n",
        "model = LogisticRegression(random_state=42)\n",
        "parameters = {'C': [10**i for i in range(-3, 3)]}\n",
        "gs = GridSearchCV(model, parameters, cv=3, scoring='f1_weighted')\n",
        "gs.fit(X_train, y_train)\n"
      ],
      "metadata": {
        "id": "2ZamaQcgt4FD"
      },
      "execution_count": null,
      "outputs": []
    },
    {
      "cell_type": "code",
      "source": [
        "gs.best_score_"
      ],
      "metadata": {
        "colab": {
          "base_uri": "https://localhost:8080/"
        },
        "id": "-kWxohQkxh6c",
        "outputId": "ea71caeb-4fae-4999-9e39-f9b33db33d91"
      },
      "execution_count": null,
      "outputs": [
        {
          "output_type": "execute_result",
          "data": {
            "text/plain": [
              "0.6341472847191132"
            ]
          },
          "metadata": {},
          "execution_count": 27
        }
      ]
    },
    {
      "cell_type": "code",
      "source": [
        "gs.best_params_"
      ],
      "metadata": {
        "colab": {
          "base_uri": "https://localhost:8080/"
        },
        "id": "73EagoWXvaU1",
        "outputId": "4fe77b99-46e4-49c5-d77b-a76378c4c5c8"
      },
      "execution_count": null,
      "outputs": [
        {
          "output_type": "execute_result",
          "data": {
            "text/plain": [
              "{'C': 1}"
            ]
          },
          "metadata": {},
          "execution_count": 28
        }
      ]
    },
    {
      "cell_type": "code",
      "source": [
        "X_train['ram_resolution'] = X_train['ram'] * (X_train['px_height'] + X_train['px_width'])"
      ],
      "metadata": {
        "id": "DtAfHEKUwpbc"
      },
      "execution_count": null,
      "outputs": []
    },
    {
      "cell_type": "code",
      "source": [
        "X_test['ram_resolution'] = X_test['ram'] * (X_test['px_height'] + X_test['px_width'])"
      ],
      "metadata": {
        "id": "rvJGMhsjw5es"
      },
      "execution_count": null,
      "outputs": []
    },
    {
      "cell_type": "code",
      "source": [
        "model = LogisticRegression(random_state=42)\n",
        "parameters = {'C': [10**i for i in range(-3, 3)]}\n",
        "gs = GridSearchCV(model, parameters, cv=3, scoring='f1_weighted')\n",
        "gs.fit(X_train, y_train)"
      ],
      "metadata": {
        "id": "V3buW4FvxC6h"
      },
      "execution_count": null,
      "outputs": []
    },
    {
      "cell_type": "code",
      "source": [
        "gs.best_score_"
      ],
      "metadata": {
        "colab": {
          "base_uri": "https://localhost:8080/"
        },
        "id": "BB9PzYwJxUnQ",
        "outputId": "71d0b436-fea8-4260-bb61-35949abdb0f2"
      },
      "execution_count": null,
      "outputs": [
        {
          "output_type": "execute_result",
          "data": {
            "text/plain": [
              "0.6871292552436717"
            ]
          },
          "metadata": {},
          "execution_count": 32
        }
      ]
    },
    {
      "cell_type": "code",
      "source": [
        "gs.best_params_"
      ],
      "metadata": {
        "colab": {
          "base_uri": "https://localhost:8080/"
        },
        "id": "A4GRBY7pxvr-",
        "outputId": "598aa3e2-e930-4dd9-911e-139511106ae3"
      },
      "execution_count": null,
      "outputs": [
        {
          "output_type": "execute_result",
          "data": {
            "text/plain": [
              "{'C': 10}"
            ]
          },
          "metadata": {},
          "execution_count": 33
        }
      ]
    },
    {
      "cell_type": "code",
      "source": [
        "from xgboost import XGBClassifier\n",
        "bst = XGBClassifier(n_estimators=100, max_depth=8, learning_rate=1)\n",
        "bst.fit(tr.transform(X_train), y_train)\n",
        "\n",
        "pred = bst.predict(tr.transform(X_test))\n",
        "res = pd.DataFrame(pred)\n",
        "res.rename(columns={0: 'price_range'}).to_csv('result.csv', index=False)"
      ],
      "metadata": {
        "id": "8IfcwUeux027"
      },
      "execution_count": null,
      "outputs": []
    },
    {
      "cell_type": "code",
      "source": [
        "# from sklearn.ensemble import RandomForestClassifier\n",
        "\n",
        "# rf = RandomForestClassifier(max_depth=8)\n",
        "# rf.fit(X_train, y_train)\n",
        "# pred = rf.predict(X_test)"
      ],
      "metadata": {
        "id": "mT_n1Qcx3CsO"
      },
      "execution_count": null,
      "outputs": []
    },
    {
      "cell_type": "code",
      "source": [
        "# res = pd.DataFrame(pred)"
      ],
      "metadata": {
        "id": "mSM1h-Y13QbH"
      },
      "execution_count": null,
      "outputs": []
    },
    {
      "cell_type": "code",
      "source": [
        "# res = pd.DataFrame(pred)"
      ],
      "metadata": {
        "id": "YG848Rj-zHni"
      },
      "execution_count": null,
      "outputs": []
    },
    {
      "cell_type": "code",
      "source": [
        "# res.rename(columns={0: 'price_range'}).to_csv('result.csv', index=False)"
      ],
      "metadata": {
        "id": "Z5BlxYrSzYv7"
      },
      "execution_count": null,
      "outputs": []
    }
  ]
}